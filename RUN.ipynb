{
 "cells": [
  {
   "cell_type": "code",
   "execution_count": 33,
   "id": "c6f855df",
   "metadata": {},
   "outputs": [],
   "source": [
    "import numpy as np \n",
    "import matplotlib.pyplot as plt\n",
    "import numpy.linalg as alg\n",
    "from scipy.linalg import svd, sqrtm\n",
    "from sklearn import linear_model\n",
    "import scipy.stats as sts\n",
    "\n",
    "from rpy2.robjects.packages import importr\n",
    "import rpy2.robjects as robjects\n",
    "import rpy2.robjects as ro\n",
    "import rpy2.robjects.numpy2ri\n",
    "\n",
    "rpy2.robjects.numpy2ri.activate()\n",
    "\n",
    "package = robjects.r.source(\"./solvebeta.r\", encoding=\"utf-8\")\n",
    "\n",
    "solvebeta = robjects.globalenv['solvebeta']\n",
    "convcheck_bis = robjects.globalenv['convcheck']\n",
    "\n",
    "\n",
    "\n",
    "def convcheck(beta1, beta2):\n",
    "    a = np.apply_along_axis(np.max, 0, np.abs(beta1 + beta2))\n",
    "    b = np.apply_along_axis(np.max, 0, np.abs(beta1 - beta2))\n",
    "    d = len(a)\n",
    "    x = np.ones(d)\n",
    "    for i in range(d):\n",
    "        x[i] = min(a[i], b[i])\n",
    "    return np.max(x)\n",
    "\n",
    "def SPCA(C,k, lam, Mu,Gram=False, Normaliser=True, eps=1e-3) :\n",
    "    if Gram == True :\n",
    "        X = sqrtm(C).real\n",
    "        p,_ = np.shape(X)\n",
    "        n = int(input(\"Nombre d'observations ?\"))\n",
    "    else : \n",
    "        X = C.copy()\n",
    "        n,p = np.shape(X)\n",
    "        \n",
    "        if Normaliser :\n",
    "            mean = np.mean(X, axis=0)\n",
    "            var = np.sqrt(sum((X-mean)**2)/n)\n",
    "            X=(X-mean)/var\n",
    "        \n",
    "    U, S, V = alg.svd(X, full_matrices = False)\n",
    "    A = V.T[:,:k]\n",
    "    y = np.array(np.dot (X,A))\n",
    "    XtX=X.T.dot(X)\n",
    "    B = A.copy()\n",
    "    vartot =  np.sum([S[i]**2 for i in range(min(n,p))])\n",
    "    X_nr, X_nc =  np.shape(X)\n",
    "    X_converted_array = ro.r.matrix(X, nrow=X_nr, ncol=X_nc)\n",
    "    for i in range(k):\n",
    "        _,y_nr = np.shape([y[:,i]])\n",
    "\n",
    "        y_converted_array =  ro.r.matrix(np.array([y[:,i]]).T, nrow=y_nr, ncol=1)\n",
    "        paras = ro.r.matrix(np.array([lam,Mu[i]]),nrow=1, ncol=2)\n",
    "        B[:,i]=solvebeta(X_converted_array,y_converted_array,paras,650,'penalty')\n",
    "    temp = B.copy()\n",
    "    normtemp = np.sqrt(np.sum(temp ** 2, axis=0)) #tableau des normes de chaque ligne\n",
    "    normtemp[normtemp == 0] = 1 #remplace les normes nulles par 1 pour ÃƒÂ©viter la division par 0\n",
    "\n",
    "    temp = (temp / normtemp)\n",
    "    diff = 1\n",
    "    compt = 0\n",
    "    if n> p :\n",
    "        while compt<200 and diff>eps:\n",
    "            compt+=1\n",
    "            U,_, V = alg.svd(np.dot(XtX,B), full_matrices = False)\n",
    "            A = np.dot(U,V)#il semble que dans l un ce soit v' et l autre v\n",
    "            y=np.dot(X,A)\n",
    "            for i in range(k):\n",
    "                _,y_nr = np.shape([y[:,i]])\n",
    "\n",
    "                y_converted_array =  ro.r.matrix(np.array([y[:,i]]).T, nrow=y_nr, ncol=1)\n",
    "                paras = ro.r.matrix(np.array([lam,Mu[i]]),nrow=1, ncol=2)\n",
    "                B[:,i]=solvebeta(X_converted_array,y_converted_array,paras,650,'penalty')\n",
    "            normbeta = np.sqrt(np.sum(B ** 2, axis=0))\n",
    "            normbeta[normbeta == 0] = 1 #eviter la division par 0\n",
    "            beta2 = (B / normbeta)\n",
    "            diff = convcheck(temp,beta2)\n",
    "            temp = beta2.copy()\n",
    "    else :\n",
    "        while compt<200 and diff>eps:\n",
    "            compt+=1\n",
    "            U,_, V = alg.svd(np.dot(XtX,B), full_matrices = False)\n",
    "            A = np.dot(U,V)\n",
    "            liste = [A[:,i].T.dot(XtX) for i in range(k)]\n",
    "            B = [max(abs(liste[i]-Mu[i]*0.5),0)*np.sign(liste[i]) for i in range(k)]\n",
    "\n",
    "            normbeta = np.sqrt(np.sum(B ** 2, axis=0))\n",
    "            normbeta[normbeta == 0] = 1 #eviter la division par 0\n",
    "            beta2 = (B / normbeta)\n",
    "            diff = convcheck(temp,beta2)\n",
    "            temp = beta2.copy()\n",
    "    normbeta = np.sqrt(np.sum(B ** 2, axis=0))\n",
    "    normbeta[normbeta == 0] = 1 #eviter la division par 0\n",
    "    B = (B / normbeta)\n",
    "    _,R = np.linalg.qr(np.dot(X,B))\n",
    "    varex=np.diag(R**2)/vartot\n",
    "    var_cum = [np.sum(varex[:k+1]) for k in range(k)]\n",
    "\n",
    "    plt.show()\n",
    "    return B,varex,var_cum,compt\n",
    "    \n"
   ]
  },
  {
   "cell_type": "code",
   "execution_count": 34,
   "id": "d528a395",
   "metadata": {},
   "outputs": [],
   "source": [
    "\n",
    "fichier = open('pitprops_cor.txt','r')\n",
    "X=[]\n",
    "for ligne in fichier :\n",
    "    X.append(ligne.split())\n",
    "X=np.array(X[1:]).T[1:]\n",
    "C=np.zeros((13,13))\n",
    "for i in range(13):\n",
    "    for j in range(13):\n",
    "        C[i][j]=float(X[i][j])\n"
   ]
  },
  {
   "cell_type": "code",
   "execution_count": 3,
   "id": "c9442193",
   "metadata": {},
   "outputs": [
    {
     "name": "stdout",
     "output_type": "stream",
     "text": [
      "Nombre d'observations ?\n"
     ]
    },
    {
     "ename": "ValueError",
     "evalue": "invalid literal for int() with base 10: ''",
     "output_type": "error",
     "traceback": [
      "\u001b[0;31m---------------------------------------------------------------------------\u001b[0m",
      "\u001b[0;31mValueError\u001b[0m                                Traceback (most recent call last)",
      "Cell \u001b[0;32mIn[3], line 1\u001b[0m\n\u001b[0;32m----> 1\u001b[0m \u001b[43mSPCA\u001b[49m\u001b[43m(\u001b[49m\u001b[43mC\u001b[49m\u001b[43m,\u001b[49m\u001b[38;5;241;43m6\u001b[39;49m\u001b[43m,\u001b[49m\u001b[38;5;241;43m0\u001b[39;49m\u001b[43m,\u001b[49m\u001b[43m[\u001b[49m\u001b[38;5;241;43m0.06\u001b[39;49m\u001b[43m,\u001b[49m\u001b[43m \u001b[49m\u001b[38;5;241;43m0.16\u001b[39;49m\u001b[43m,\u001b[49m\u001b[43m \u001b[49m\u001b[38;5;241;43m0.1\u001b[39;49m\u001b[43m,\u001b[49m\u001b[43m \u001b[49m\u001b[38;5;241;43m0.5\u001b[39;49m\u001b[43m,\u001b[49m\u001b[43m \u001b[49m\u001b[38;5;241;43m0.5\u001b[39;49m\u001b[43m,\u001b[49m\u001b[43m \u001b[49m\u001b[38;5;241;43m0.5\u001b[39;49m\u001b[43m]\u001b[49m\u001b[43m,\u001b[49m\u001b[43mGram\u001b[49m\u001b[38;5;241;43m=\u001b[39;49m\u001b[38;5;28;43;01mTrue\u001b[39;49;00m\u001b[43m)\u001b[49m\n",
      "Cell \u001b[0;32mIn[1], line 35\u001b[0m, in \u001b[0;36mSPCA\u001b[0;34m(C, k, lam, Mu, Gram, Normaliser, eps)\u001b[0m\n\u001b[1;32m     33\u001b[0m     X \u001b[38;5;241m=\u001b[39m sqrtm(C)\u001b[38;5;241m.\u001b[39mreal\n\u001b[1;32m     34\u001b[0m     p,_ \u001b[38;5;241m=\u001b[39m np\u001b[38;5;241m.\u001b[39mshape(X)\n\u001b[0;32m---> 35\u001b[0m     n \u001b[38;5;241m=\u001b[39m \u001b[38;5;28;43mint\u001b[39;49m\u001b[43m(\u001b[49m\u001b[38;5;28;43minput\u001b[39;49m\u001b[43m(\u001b[49m\u001b[38;5;124;43m\"\u001b[39;49m\u001b[38;5;124;43mNombre d\u001b[39;49m\u001b[38;5;124;43m'\u001b[39;49m\u001b[38;5;124;43mobservations ?\u001b[39;49m\u001b[38;5;124;43m\"\u001b[39;49m\u001b[43m)\u001b[49m\u001b[43m)\u001b[49m\n\u001b[1;32m     36\u001b[0m \u001b[38;5;28;01melse\u001b[39;00m : \n\u001b[1;32m     37\u001b[0m     X \u001b[38;5;241m=\u001b[39m C\u001b[38;5;241m.\u001b[39mcopy()\n",
      "\u001b[0;31mValueError\u001b[0m: invalid literal for int() with base 10: ''"
     ]
    }
   ],
   "source": [
    "SPCA(C,6,0,[0.06, 0.16, 0.1, 0.5, 0.5, 0.5],Gram=True)"
   ]
  },
  {
   "cell_type": "code",
   "execution_count": null,
   "id": "76e4c5b4",
   "metadata": {},
   "outputs": [],
   "source": [
    "np.random.seed(0)\n",
    "\n",
    "def f(X,Y):\n",
    "    return 3*(X+Y)-2\n",
    "\n",
    "X = np.sort(np.random.rand(30))\n",
    "Y = np.sort(np.random.rand(30))\n",
    "Z = f(X,Y) + np.random.randn(30) * 10"
   ]
  },
  {
   "cell_type": "code",
   "execution_count": null,
   "id": "b1b31bdc",
   "metadata": {},
   "outputs": [],
   "source": [
    "donnees = np.array([[X[i],Y[i],Z[i]] for i in range(30)])\n",
    "SPCA(donnees,2,0,[0.5,0.5])"
   ]
  },
  {
   "cell_type": "code",
   "execution_count": null,
   "id": "72a27536",
   "metadata": {},
   "outputs": [],
   "source": []
  },
  {
   "cell_type": "code",
   "execution_count": 23,
   "id": "daefaab5",
   "metadata": {},
   "outputs": [],
   "source": [
    "np.random.seed(1)\n",
    "V1 = sts.norm(0,290).rvs()\n",
    "V2 = sts.norm(0,300).rvs()\n",
    "V3 = -0.3*V1+0.925*V2+sts.norm(0,1).rvs()\n",
    "\n",
    "X = [V1+sts.norm(0,1).rvs() for i in range(4)]+[V3+sts.norm(0,1).rvs() for i in range(4)]+[V3+sts.norm(0,1).rvs() for i in range(2)]\n",
    "X= np.array([X])\n",
    "C=X.T*X"
   ]
  },
  {
   "cell_type": "code",
   "execution_count": 24,
   "id": "0d31139e",
   "metadata": {},
   "outputs": [
    {
     "name": "stdout",
     "output_type": "stream",
     "text": [
      "Nombre d'observations ?1\n"
     ]
    },
    {
     "data": {
      "text/plain": [
       "(array([[ 0.        ,  0.81440723,  0.08914275],\n",
       "        [ 0.        , -0.47322649,  0.        ],\n",
       "        [ 0.        , -0.01862783,  0.        ],\n",
       "        [-1.        , -0.01506836, -0.23687953],\n",
       "        [ 0.        ,  0.        ,  0.27027658],\n",
       "        [ 0.        ,  0.31956733, -0.8565699 ],\n",
       "        [ 0.        ,  0.        ,  0.        ],\n",
       "        [ 0.        ,  0.06569253,  0.        ],\n",
       "        [ 0.        ,  0.        ,  0.        ],\n",
       "        [ 0.        ,  0.07605733,  0.35941651]]),\n",
       " array([1.52020200e-01, 1.60715301e-16, 5.64834198e-17]),\n",
       " [0.15202019998752803, 0.1520201999875282, 0.15202019998752825],\n",
       " 200)"
      ]
     },
     "execution_count": 24,
     "metadata": {},
     "output_type": "execute_result"
    }
   ],
   "source": [
    "SPCA(C,3,0,[0.1,0,0],Gram=True)"
   ]
  },
  {
   "cell_type": "code",
   "execution_count": 31,
   "id": "d18cfb16",
   "metadata": {},
   "outputs": [],
   "source": [
    "\n",
    "fichier = open('prostate_ESL.txt','r')\n",
    "X=[]\n",
    "for ligne in fichier :\n",
    "    X.append(ligne.split())\n",
    "\n",
    "X=np.array(X[1:]).T[:-1]\n",
    "C=np.zeros(np.shape(X))\n",
    "for i in range(np.shape(X)[0]):\n",
    "    for j in range(np.shape(X)[0]):\n",
    "        C[i][j]=float(X[i][j])\n"
   ]
  },
  {
   "cell_type": "code",
   "execution_count": 32,
   "id": "628d16bc",
   "metadata": {},
   "outputs": [
    {
     "name": "stderr",
     "output_type": "stream",
     "text": [
      "/tmp/ipykernel_2091/180993106.py:43: RuntimeWarning: invalid value encountered in divide\n",
      "  X=(X-mean)/var\n"
     ]
    },
    {
     "ename": "LinAlgError",
     "evalue": "SVD did not converge",
     "output_type": "error",
     "traceback": [
      "\u001b[0;31m---------------------------------------------------------------------------\u001b[0m",
      "\u001b[0;31mLinAlgError\u001b[0m                               Traceback (most recent call last)",
      "Cell \u001b[0;32mIn[32], line 1\u001b[0m\n\u001b[0;32m----> 1\u001b[0m \u001b[43mSPCA\u001b[49m\u001b[43m(\u001b[49m\u001b[43mC\u001b[49m\u001b[43m,\u001b[49m\u001b[38;5;241;43m6\u001b[39;49m\u001b[43m,\u001b[49m\u001b[38;5;241;43m0\u001b[39;49m\u001b[43m,\u001b[49m\u001b[43m[\u001b[49m\u001b[38;5;241;43m0.5\u001b[39;49m\u001b[43m,\u001b[49m\u001b[38;5;241;43m0.5\u001b[39;49m\u001b[43m,\u001b[49m\u001b[38;5;241;43m0.5\u001b[39;49m\u001b[43m,\u001b[49m\u001b[38;5;241;43m0.5\u001b[39;49m\u001b[43m,\u001b[49m\u001b[38;5;241;43m0.5\u001b[39;49m\u001b[43m,\u001b[49m\u001b[38;5;241;43m0.5\u001b[39;49m\u001b[43m]\u001b[49m\u001b[43m)\u001b[49m\n",
      "Cell \u001b[0;32mIn[17], line 45\u001b[0m, in \u001b[0;36mSPCA\u001b[0;34m(C, k, lam, Mu, Gram, Normaliser, eps)\u001b[0m\n\u001b[1;32m     42\u001b[0m         var \u001b[38;5;241m=\u001b[39m np\u001b[38;5;241m.\u001b[39msqrt(\u001b[38;5;28msum\u001b[39m((X\u001b[38;5;241m-\u001b[39mmean)\u001b[38;5;241m*\u001b[39m\u001b[38;5;241m*\u001b[39m\u001b[38;5;241m2\u001b[39m)\u001b[38;5;241m/\u001b[39mn)\n\u001b[1;32m     43\u001b[0m         X\u001b[38;5;241m=\u001b[39m(X\u001b[38;5;241m-\u001b[39mmean)\u001b[38;5;241m/\u001b[39mvar\n\u001b[0;32m---> 45\u001b[0m U, S, V \u001b[38;5;241m=\u001b[39m \u001b[43malg\u001b[49m\u001b[38;5;241;43m.\u001b[39;49m\u001b[43msvd\u001b[49m\u001b[43m(\u001b[49m\u001b[43mX\u001b[49m\u001b[43m,\u001b[49m\u001b[43m \u001b[49m\u001b[43mfull_matrices\u001b[49m\u001b[43m \u001b[49m\u001b[38;5;241;43m=\u001b[39;49m\u001b[43m \u001b[49m\u001b[38;5;28;43;01mFalse\u001b[39;49;00m\u001b[43m)\u001b[49m\n\u001b[1;32m     46\u001b[0m A \u001b[38;5;241m=\u001b[39m V\u001b[38;5;241m.\u001b[39mT[:,:k]\n\u001b[1;32m     47\u001b[0m y \u001b[38;5;241m=\u001b[39m np\u001b[38;5;241m.\u001b[39marray(np\u001b[38;5;241m.\u001b[39mdot (X,A))\n",
      "File \u001b[0;32m<__array_function__ internals>:200\u001b[0m, in \u001b[0;36msvd\u001b[0;34m(*args, **kwargs)\u001b[0m\n",
      "File \u001b[0;32m/opt/conda/lib/python3.10/site-packages/numpy/linalg/linalg.py:1642\u001b[0m, in \u001b[0;36msvd\u001b[0;34m(a, full_matrices, compute_uv, hermitian)\u001b[0m\n\u001b[1;32m   1639\u001b[0m         gufunc \u001b[38;5;241m=\u001b[39m _umath_linalg\u001b[38;5;241m.\u001b[39msvd_n_s\n\u001b[1;32m   1641\u001b[0m signature \u001b[38;5;241m=\u001b[39m \u001b[38;5;124m'\u001b[39m\u001b[38;5;124mD->DdD\u001b[39m\u001b[38;5;124m'\u001b[39m \u001b[38;5;28;01mif\u001b[39;00m isComplexType(t) \u001b[38;5;28;01melse\u001b[39;00m \u001b[38;5;124m'\u001b[39m\u001b[38;5;124md->ddd\u001b[39m\u001b[38;5;124m'\u001b[39m\n\u001b[0;32m-> 1642\u001b[0m u, s, vh \u001b[38;5;241m=\u001b[39m \u001b[43mgufunc\u001b[49m\u001b[43m(\u001b[49m\u001b[43ma\u001b[49m\u001b[43m,\u001b[49m\u001b[43m \u001b[49m\u001b[43msignature\u001b[49m\u001b[38;5;241;43m=\u001b[39;49m\u001b[43msignature\u001b[49m\u001b[43m,\u001b[49m\u001b[43m \u001b[49m\u001b[43mextobj\u001b[49m\u001b[38;5;241;43m=\u001b[39;49m\u001b[43mextobj\u001b[49m\u001b[43m)\u001b[49m\n\u001b[1;32m   1643\u001b[0m u \u001b[38;5;241m=\u001b[39m u\u001b[38;5;241m.\u001b[39mastype(result_t, copy\u001b[38;5;241m=\u001b[39m\u001b[38;5;28;01mFalse\u001b[39;00m)\n\u001b[1;32m   1644\u001b[0m s \u001b[38;5;241m=\u001b[39m s\u001b[38;5;241m.\u001b[39mastype(_realType(result_t), copy\u001b[38;5;241m=\u001b[39m\u001b[38;5;28;01mFalse\u001b[39;00m)\n",
      "File \u001b[0;32m/opt/conda/lib/python3.10/site-packages/numpy/linalg/linalg.py:98\u001b[0m, in \u001b[0;36m_raise_linalgerror_svd_nonconvergence\u001b[0;34m(err, flag)\u001b[0m\n\u001b[1;32m     97\u001b[0m \u001b[38;5;28;01mdef\u001b[39;00m \u001b[38;5;21m_raise_linalgerror_svd_nonconvergence\u001b[39m(err, flag):\n\u001b[0;32m---> 98\u001b[0m     \u001b[38;5;28;01mraise\u001b[39;00m LinAlgError(\u001b[38;5;124m\"\u001b[39m\u001b[38;5;124mSVD did not converge\u001b[39m\u001b[38;5;124m\"\u001b[39m)\n",
      "\u001b[0;31mLinAlgError\u001b[0m: SVD did not converge"
     ]
    }
   ],
   "source": [
    "SPCA(C,6,0,[0.5,0.5,0.5,0.5,0.5,0.5])"
   ]
  },
  {
   "cell_type": "code",
   "execution_count": null,
   "id": "2e8b896d",
   "metadata": {},
   "outputs": [],
   "source": []
  }
 ],
 "metadata": {
  "kernelspec": {
   "display_name": "Python 3 (ipykernel)",
   "language": "python",
   "name": "python3"
  },
  "language_info": {
   "codemirror_mode": {
    "name": "ipython",
    "version": 3
   },
   "file_extension": ".py",
   "mimetype": "text/x-python",
   "name": "python",
   "nbconvert_exporter": "python",
   "pygments_lexer": "ipython3",
   "version": "3.10.8"
  }
 },
 "nbformat": 4,
 "nbformat_minor": 5
}
