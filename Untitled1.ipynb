{
 "cells": [
  {
   "cell_type": "code",
   "execution_count": 1,
   "id": "233d513e",
   "metadata": {},
   "outputs": [
    {
     "name": "stderr",
     "output_type": "stream",
     "text": [
      "Mise à jour de la liste HTML des packages dans '.Library'\n",
      "\n",
      "Making 'packages.html' ...\n",
      " terminé\n",
      "\n"
     ]
    }
   ],
   "source": [
    "install.packages('lars')"
   ]
  },
  {
   "cell_type": "code",
   "execution_count": 2,
   "id": "d8375900",
   "metadata": {},
   "outputs": [
    {
     "name": "stderr",
     "output_type": "stream",
     "text": [
      "Loaded lars 1.3\n",
      "\n",
      "\n"
     ]
    }
   ],
   "source": [
    "library('lars')"
   ]
  },
  {
   "cell_type": "code",
   "execution_count": null,
   "id": "562b0dbf",
   "metadata": {},
   "outputs": [],
   "source": []
  }
 ],
 "metadata": {
  "kernelspec": {
   "display_name": "R",
   "language": "R",
   "name": "ir"
  },
  "language_info": {
   "codemirror_mode": "r",
   "file_extension": ".r",
   "mimetype": "text/x-r-source",
   "name": "R",
   "pygments_lexer": "r",
   "version": "4.2.2"
  }
 },
 "nbformat": 4,
 "nbformat_minor": 5
}
