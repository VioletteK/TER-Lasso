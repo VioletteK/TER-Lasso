{
 "cells": [
  {
   "cell_type": "code",
   "execution_count": 4,
   "id": "4ef9f434",
   "metadata": {},
   "outputs": [],
   "source": [
    "import numpy as np \n",
    "import random as rd\n",
    "import matplotlib.pyplot as plt\n",
    "import numpy.linalg \n",
    "from scipy.optimize import root\n",
    "from scipy.linalg import svd, sqrtm\n",
    "from sklearn import linear_model\n",
    "import scipy.stats as sts\n",
    "\n"
   ]
  },
  {
   "cell_type": "code",
   "execution_count": 5,
   "id": "dd85ecd7",
   "metadata": {},
   "outputs": [],
   "source": [
    "def NIPALS_wikistats(X,Y,K, eps = 1e-9, max_iter = 100):\n",
    "    n,p = np.shape(X)\n",
    "    U = []\n",
    "    V = []\n",
    "    if centrer_reduire :\n",
    "        meanx = np.mean(X, axis=0)\n",
    "        X = X - mean\n",
    "        meany = np.mean(Y, axis=0)\n",
    "        Y = Y - mean\n",
    "    w = Y[:,0].reshape(-1,1)\n",
    "    for h in range(k):\n",
    "        diff = 1\n",
    "        it = 0\n",
    "        while diff > eps and it < max_iter:\n",
    "            u = np.dot(X.T,w)/np.linalg.norm(w)\n",
    "            u = u/np.linalg.norm(u)\n",
    "            e = X.dot(u)\n",
    "            v_vieux = v.copy()\n",
    "            v = Y.T.dot(e)/np.linalg.norm(e)\n",
    "            om = Y.T.dot(v)\n",
    "            diff = np.linalg.norm(v-vh)\n",
    "            it += 1\n",
    "        U.append(u)\n",
    "        V.append(V)\n",
    "        c = X.T.dot(e)/np.linalg.norm(e)\n",
    "        d = X.T.dot(om)/np.linalg.norm(om)\n",
    "        X = X - e.dot(c.T)\n",
    "        Y = Y - om.dot(d.T)\n",
    "    return U,V"
   ]
  },
  {
   "cell_type": "code",
   "execution_count": 12,
   "id": "e2d25c32",
   "metadata": {},
   "outputs": [],
   "source": [
    "def NIPALS(X,comp, eps = 1e-9,centrer_reduire=False,max_iter = 100):\n",
    "    n,p = np.shape(X)\n",
    "    if centrer_reduire :\n",
    "        mean = np.mean(X, axis=0)\n",
    "        X = X-mean\n",
    "        var = np.sqrt(sum((X**2))/n)\n",
    "        X=X/var\n",
    "    a = comp\n",
    "    T = np.zeros((n,a)) #scores\n",
    "    P = np.zeros((p,a)) #loadings\n",
    "    lam = []\n",
    "    Xh = X.copy()\n",
    "    \n",
    "    for h in range(a):\n",
    "        col = np.argmax(np.apply_along_axis(lambda Xh: np.sum(np.abs(Xh), axis=0, keepdims=True), 0,Xh))\n",
    "        \n",
    "        th = Xh[:,col].reshape(-1,1)\n",
    "        \n",
    "        diff = 1\n",
    "        p0 = Xh.T.dot(th)/th.T.dot(th).reshape(-1,1)\n",
    "        k=0\n",
    "        while diff > eps and k< max_iter :\n",
    "            ph = Xh.T.dot(th)/th.T.dot(th).reshape(-1,1)\n",
    "            ph = ph/np.linalg.norm(ph)\n",
    "            t0 = th.copy()\n",
    "            th = Xh.dot(ph)/ph.T.dot(ph)\n",
    "            diff = np.linalg.norm(th-t0)\n",
    "            k+=1\n",
    "        Xh = Xh- th.dot(ph.T)\n",
    "        lh = th.T.dot(th)\n",
    "        T[:,h]=th[:,0]\n",
    "        P[:,h]=ph[:,0]\n",
    "        lam.append(np.sqrt(lh))\n",
    "        h+=1\n",
    "    return T,P,lam\n",
    "def NIPALS_bis(T,P,Y):\n",
    "    \n",
    "    c = np.linalg.inv(T.T.dot(T)).dot(T.T).dot(Y)\n",
    "    return P.dot(c)\n",
    "def NIPALS_complet(X,Y,k, eps = 1e-9,centrer_reduire=True,max_iter = 100):\n",
    "    T,P,L = NIPALS(X,k, eps = 1e-9,centrer_reduire=True,max_iter = 100)\n",
    "    beta = NIPALS_bis(T,P,Y)\n",
    "    return beta"
   ]
  },
  {
   "cell_type": "code",
   "execution_count": 13,
   "id": "a4c693c3",
   "metadata": {},
   "outputs": [],
   "source": [
    "B=np.array([[50, 67, 90, 98, 120],\n",
    "              [55, 71, 93, 102, 129],\n",
    "              [65, 76, 95, 105, 134],\n",
    "              [50, 80, 102, 130, 138],\n",
    "              [60, 82, 97, 135, 151],\n",
    "              [65, 89, 106, 137, 153],\n",
    "              [75, 95, 117, 133, 155]], dtype='float64' )"
   ]
  },
  {
   "cell_type": "code",
   "execution_count": 14,
   "id": "11cbddc7",
   "metadata": {},
   "outputs": [
    {
     "data": {
      "text/plain": [
       "'https://www.centerspace.net/principal-components-regression'"
      ]
     },
     "execution_count": 14,
     "metadata": {},
     "output_type": "execute_result"
    }
   ],
   "source": [
    "'https://www.centerspace.net/principal-components-regression'"
   ]
  },
  {
   "cell_type": "code",
   "execution_count": null,
   "id": "44c52f52",
   "metadata": {},
   "outputs": [],
   "source": []
  },
  {
   "cell_type": "code",
   "execution_count": null,
   "id": "108bfacd",
   "metadata": {},
   "outputs": [],
   "source": []
  },
  {
   "cell_type": "code",
   "execution_count": null,
   "id": "b0f5fd10",
   "metadata": {},
   "outputs": [],
   "source": []
  },
  {
   "cell_type": "code",
   "execution_count": 15,
   "id": "0cc7b00d",
   "metadata": {},
   "outputs": [
    {
     "data": {
      "text/plain": [
       "array([[-0.07194093],\n",
       "       [-0.07821926],\n",
       "       [ 0.05564067],\n",
       "       [-0.06195667],\n",
       "       [ 0.00906839]])"
      ]
     },
     "execution_count": 15,
     "metadata": {},
     "output_type": "execute_result"
    }
   ],
   "source": [
    "X = np.array([[rd.random() for i in range(5)] for j in range(4)])\n",
    "Y = np.array([[rd.random()*2] for i in range(4)])\n",
    "NIPALS_complet(X,Y,3)"
   ]
  },
  {
   "cell_type": "code",
   "execution_count": 16,
   "id": "9c0cca4f",
   "metadata": {},
   "outputs": [],
   "source": [
    "def convcheck(a,b):\n",
    "    return max(np.abs(a-b))\n",
    "def soft_tresh(Z,kap):\n",
    "    p,m = np.shape(Z)\n",
    "    z_soft = np.zeros((p,1))\n",
    "    if kap < 1 :\n",
    "        val = np.abs(Z) - kap * max(np.abs(Z))\n",
    "        z_soft[val>=0]= val[ val>=0 ] * (np.sign(Z))[ val>=0 ]\n",
    "    return z_soft\n",
    "\n",
    "def fonc(lam,M,c, kap):\n",
    "    A = np.linalg.inv(M+lam*np.identity(p)).dot(M).dot(c)\n",
    "    return A.T.dot(A)-kap**2\n",
    "\n",
    "def SPLS(X,y,K,kappa,eta,eps=1e-3):\n",
    "    #https://github.com/cran/spls/blob/master/R/spls.R\n",
    "    n,p = np.shape(X)\n",
    "    _,m = np.shape(Y)\n",
    "    beta = np.zeros((p,m))\n",
    "    A = set()\n",
    "    Y1 = Y.copy()\n",
    "    k = 1\n",
    "    while k <= K : \n",
    "        M = np.dot(np.dot(X.T,Y1),np.dot(Y1.T,X))\n",
    "        c = np.zeros((p,1))\n",
    "        diff = 1\n",
    "        if kappa < 0.5 :\n",
    "            while diff > eps :  \n",
    "                kaprime = (1-kappa)/(1-2*kappa)\n",
    "                lam_etoile = root(fonc,0,args = (M,c,kap))\n",
    "                w = kaprime*np.linalg.inv((M+lam_etoile*np.identity(p)))\n",
    "                Z = X.T.dot(Y)\n",
    "                c0 = c\n",
    "                c = soft_tresh(M.dot(w),eta)\n",
    "                diff = convcheck(c,c0)\n",
    "        else :\n",
    "            while diff > eps :\n",
    "                U,_,V = svd(M.dot(c),full_matrices=False)\n",
    "                w = np.dot(U,V)\n",
    "                c0 = c\n",
    "                c = soft_tresh(M.dot(w),eta)\n",
    "                diff = convcheck(c,c0)\n",
    "        A = set([i if w[i]!=0 else None for i in range(len(w))]).union([i if beta[i]!=0 else None for i in range(len(beta))])\n",
    "        if None in A :\n",
    "            A.remove(None)\n",
    "        A=list(A)\n",
    "        beta = NIPALS_complet(X[:,A],y,min(K,len(A))) \n",
    "        k+=1\n",
    "        Y1 = Y-X.dot(beta)\n",
    "        \n",
    "    return Y1\n",
    "            "
   ]
  },
  {
   "cell_type": "code",
   "execution_count": 17,
   "id": "b991908d",
   "metadata": {},
   "outputs": [],
   "source": [
    "\n",
    "fichier = open('prostate_ESL.txt','r')\n",
    "X=[]\n",
    "for ligne in fichier :\n",
    "    X.append(ligne.split())\n",
    "\n",
    "X=np.array(X[1:]).T[1:-1].T\n",
    "n,p=np.shape(X)\n",
    "\n",
    "C=np.zeros(np.shape(X))\n",
    "for i in range(n):\n",
    "    for j in range(p):\n",
    "        C[i][j]=float(X[i][j])\n",
    "X = C[:,:-1]\n",
    "Y=C[:,-1].reshape(-1,1)\n"
   ]
  },
  {
   "cell_type": "code",
   "execution_count": 20,
   "id": "5c325827",
   "metadata": {},
   "outputs": [
    {
     "data": {
      "text/plain": [
       "array([[ 0.6617092 ],\n",
       "       [ 0.26510309],\n",
       "       [-0.15737767],\n",
       "       [ 0.13958604],\n",
       "       [ 0.31369926],\n",
       "       [-0.14751935],\n",
       "       [ 0.03536545],\n",
       "       [ 0.1250701 ]])"
      ]
     },
     "execution_count": 20,
     "metadata": {},
     "output_type": "execute_result"
    }
   ],
   "source": [
    "NIPALS_complet(X,Y,8)\n"
   ]
  },
  {
   "cell_type": "code",
   "execution_count": 22,
   "id": "5086dbc7",
   "metadata": {},
   "outputs": [
    {
     "data": {
      "text/plain": [
       "array([[ 6.86438923],\n",
       "       [ 8.52005828],\n",
       "       [ 8.34803204],\n",
       "       [ 8.66859789],\n",
       "       [ 8.49863708],\n",
       "       [ 8.24986604],\n",
       "       [ 8.92644099],\n",
       "       [ 7.95410052],\n",
       "       [ 7.79638048],\n",
       "       [ 9.731127  ],\n",
       "       [10.14933851],\n",
       "       [10.52554441],\n",
       "       [ 5.41840346],\n",
       "       [ 9.23625413],\n",
       "       [ 7.91580227],\n",
       "       [ 9.77936132],\n",
       "       [ 7.56793712],\n",
       "       [ 9.43418925],\n",
       "       [ 7.29312948],\n",
       "       [10.83289867],\n",
       "       [ 9.0353578 ],\n",
       "       [ 6.05418428],\n",
       "       [10.14115564],\n",
       "       [ 1.8955311 ],\n",
       "       [10.72359405],\n",
       "       [10.22376366],\n",
       "       [ 1.77742289],\n",
       "       [ 8.39385616],\n",
       "       [ 0.59778735],\n",
       "       [ 9.85493143],\n",
       "       [10.2767929 ],\n",
       "       [10.45389363],\n",
       "       [10.9393514 ],\n",
       "       [ 9.42389874],\n",
       "       [10.97985265],\n",
       "       [ 8.81942013],\n",
       "       [ 9.90150901],\n",
       "       [ 9.19693988],\n",
       "       [ 5.21155151],\n",
       "       [ 8.73637314],\n",
       "       [ 0.16174436],\n",
       "       [ 9.56940769],\n",
       "       [10.15958921],\n",
       "       [ 9.0847623 ],\n",
       "       [ 7.96471394],\n",
       "       [ 7.73891098],\n",
       "       [-0.8720481 ],\n",
       "       [ 5.87794496],\n",
       "       [ 7.05307325],\n",
       "       [11.33245911],\n",
       "       [ 5.06512547],\n",
       "       [ 9.82248749],\n",
       "       [ 2.2503283 ],\n",
       "       [ 5.60934318],\n",
       "       [ 8.08722178],\n",
       "       [ 8.50754684],\n",
       "       [ 8.2999766 ],\n",
       "       [ 8.58550396],\n",
       "       [ 9.34166196],\n",
       "       [ 5.05364393],\n",
       "       [12.08700944],\n",
       "       [ 4.95217434],\n",
       "       [-0.36297072],\n",
       "       [ 2.84965002],\n",
       "       [10.39867666],\n",
       "       [ 7.50844751],\n",
       "       [ 2.19898873],\n",
       "       [ 9.88140333],\n",
       "       [12.72515406],\n",
       "       [10.93142073],\n",
       "       [ 2.59272402],\n",
       "       [ 9.67912438],\n",
       "       [ 9.26114458],\n",
       "       [-1.33285206],\n",
       "       [ 8.54183869],\n",
       "       [ 4.64490636],\n",
       "       [ 4.24385454],\n",
       "       [10.84991584],\n",
       "       [ 2.8734467 ],\n",
       "       [ 4.32236619],\n",
       "       [ 6.82210872],\n",
       "       [ 2.44752039],\n",
       "       [ 8.7662519 ],\n",
       "       [ 2.04032365],\n",
       "       [ 6.89629304],\n",
       "       [ 3.05610083],\n",
       "       [ 9.8338048 ],\n",
       "       [ 7.35519622],\n",
       "       [ 3.59682161],\n",
       "       [ 3.98834964],\n",
       "       [11.27265983],\n",
       "       [ 8.24862328],\n",
       "       [ 4.50939829],\n",
       "       [ 2.99700849],\n",
       "       [ 9.24755463],\n",
       "       [ 2.71679264],\n",
       "       [10.23798442]])"
      ]
     },
     "execution_count": 22,
     "metadata": {},
     "output_type": "execute_result"
    }
   ],
   "source": [
    "SPLS(X,Y,8,0.5,0.5)"
   ]
  },
  {
   "cell_type": "code",
   "execution_count": null,
   "id": "24eaf41e",
   "metadata": {},
   "outputs": [],
   "source": []
  }
 ],
 "metadata": {
  "kernelspec": {
   "display_name": "Python 3 (ipykernel)",
   "language": "python",
   "name": "python3"
  },
  "language_info": {
   "codemirror_mode": {
    "name": "ipython",
    "version": 3
   },
   "file_extension": ".py",
   "mimetype": "text/x-python",
   "name": "python",
   "nbconvert_exporter": "python",
   "pygments_lexer": "ipython3",
   "version": "3.10.8"
  }
 },
 "nbformat": 4,
 "nbformat_minor": 5
}
