{
 "cells": [
  {
   "cell_type": "code",
   "execution_count": 1,
   "id": "e6a1e8c6",
   "metadata": {},
   "outputs": [],
   "source": [
    "import numpy as np \n",
    "import matplotlib.pyplot as plt\n",
    "import numpy.linalg as alg \n",
    "\n",
    "def ACP(X, dim, Gram =False, norm = True):\n",
    "    if Gram == False:\n",
    "        n,p = np.shape(X)\n",
    "        if norm:\n",
    "            mean = np.mean(X, axis=0)\n",
    "            var = np.sqrt(sum((X-mean)**2)/n)\n",
    "            X=(X-mean)/var\n",
    "        else :\n",
    "            mean = np.mean(X, axis=0)\n",
    "            X-=mean\n",
    "        C = (1/n)*np.dot(X.T,X)\n",
    "    else: \n",
    "        C=X.copy()\n",
    "        n = input(\"Nombre d'obervations?\")\n",
    "        p,_ = np.shape(C) \n",
    "    u, s, v = alg.svd(C)\n",
    "    \n",
    "    if norm :\n",
    "        var_expl = s/p\n",
    "    else :\n",
    "        var_expl =s/np.sum(s)\n",
    "    var_cum = [np.sum(var_expl[:k+1]) for k in range(dim)]\n",
    "    # v représente les composantes principales, s leurs valeurs propres associées, et var_expl les pourcentages de variance expliquée\n",
    "    return v[:dim], s[:dim], var_expl[:dim], var_cum        "
   ]
  },
  {
   "cell_type": "code",
   "execution_count": null,
   "id": "4f9d504a",
   "metadata": {},
   "outputs": [],
   "source": []
  }
 ],
 "metadata": {
  "kernelspec": {
   "display_name": "Python 3 (ipykernel)",
   "language": "python",
   "name": "python3"
  },
  "language_info": {
   "codemirror_mode": {
    "name": "ipython",
    "version": 3
   },
   "file_extension": ".py",
   "mimetype": "text/x-python",
   "name": "python",
   "nbconvert_exporter": "python",
   "pygments_lexer": "ipython3",
   "version": "3.10.8"
  }
 },
 "nbformat": 4,
 "nbformat_minor": 5
}
